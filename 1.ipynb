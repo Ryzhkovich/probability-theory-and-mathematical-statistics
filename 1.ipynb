{
 "cells": [
  {
   "cell_type": "code",
   "execution_count": 1,
   "id": "16a86fac",
   "metadata": {},
   "outputs": [],
   "source": [
    "from math import factorial"
   ]
  },
  {
   "cell_type": "code",
   "execution_count": 2,
   "id": "c1df7764",
   "metadata": {},
   "outputs": [],
   "source": [
    "def combinations(n, k):\n",
    "    return factorial(n) // (factorial(k) * factorial(n - k))"
   ]
  },
  {
   "cell_type": "markdown",
   "id": "9d5cd6d6",
   "metadata": {},
   "source": [
    "1. Из колоды в 52 карты извлекаются случайным образом 4 карты. a) Найти вероятность того, что все карты – крести. б) Найти вероятность, что среди 4-х карт окажется хотя бы один туз."
   ]
  },
  {
   "cell_type": "markdown",
   "id": "a40bbfb4",
   "metadata": {},
   "source": [
    "a) Это значит, что нужно взять соченание 4 по 13(все крести), умножить на сочетание 0 по 39(не попалось ни одной карты из прочих мастей) и поделить на общее кол-во сочетаний взятия 4х карт из 52"
   ]
  },
  {
   "cell_type": "code",
   "execution_count": 3,
   "id": "e4e50d05",
   "metadata": {},
   "outputs": [],
   "source": [
    "P = combinations(13, 4) * combinations(39, 0) / combinations(52, 4)"
   ]
  },
  {
   "cell_type": "code",
   "execution_count": 4,
   "id": "22323ca2",
   "metadata": {},
   "outputs": [
    {
     "name": "stdout",
     "output_type": "stream",
     "text": [
      "0.0026410564225690276\n"
     ]
    }
   ],
   "source": [
    "print(P)"
   ]
  },
  {
   "cell_type": "markdown",
   "id": "cb6416fb",
   "metadata": {},
   "source": [
    "б) Надо просуммровать вероятности взятия 1го 2х .. 4х тузов(строгие вероятности)"
   ]
  },
  {
   "cell_type": "code",
   "execution_count": 5,
   "id": "a9c87bd8",
   "metadata": {},
   "outputs": [],
   "source": [
    "P1 = (combinations(4, 1) * combinations(48, 3) + combinations(4, 2) * combinations(48, 2) + combinations(4, 3) * combinations(48, 1)  + combinations(4, 4) * combinations(48, 0))/ combinations(52, 4)"
   ]
  },
  {
   "cell_type": "code",
   "execution_count": 6,
   "id": "9e0267e1",
   "metadata": {
    "scrolled": true
   },
   "outputs": [
    {
     "name": "stdout",
     "output_type": "stream",
     "text": [
      "0.2812632745405855\n"
     ]
    }
   ],
   "source": [
    "print(P1)"
   ]
  },
  {
   "cell_type": "markdown",
   "id": "34e250cc",
   "metadata": {},
   "source": [
    "2. На входной двери подъезда установлен кодовый замок, содержащий десять кнопок с цифрами от 0 до 9. Код содержит три цифры, которые нужно нажать одновременно. Какова вероятность того, что человек, не знающий код, откроет дверь с первой попытки?"
   ]
  },
  {
   "cell_type": "markdown",
   "id": "c9a73fdf",
   "metadata": {},
   "source": [
    "Тут надо пользоваться формулой сочетания, важно угадать цифры, порядок не важен"
   ]
  },
  {
   "cell_type": "code",
   "execution_count": 7,
   "id": "78b03f63",
   "metadata": {},
   "outputs": [],
   "source": [
    "P2 = 1 / combinations(10, 3)"
   ]
  },
  {
   "cell_type": "code",
   "execution_count": 8,
   "id": "b6248b20",
   "metadata": {},
   "outputs": [
    {
     "name": "stdout",
     "output_type": "stream",
     "text": [
      "0.008333333333333333\n"
     ]
    }
   ],
   "source": [
    "print(P2)"
   ]
  },
  {
   "cell_type": "markdown",
   "id": "20b10f38",
   "metadata": {},
   "source": [
    "3. В ящике имеется 15 деталей, из которых 9 окрашены. Рабочий случайным образом извлекает 3 детали. Какова вероятность того, что все извлеченные детали окрашены?"
   ]
  },
  {
   "cell_type": "markdown",
   "id": "95962932",
   "metadata": {},
   "source": [
    "Тоже сочетания"
   ]
  },
  {
   "cell_type": "code",
   "execution_count": 9,
   "id": "9268a1e5",
   "metadata": {},
   "outputs": [],
   "source": [
    "P3 = combinations(9, 3) * combinations(6, 0) / combinations(15, 3)"
   ]
  },
  {
   "cell_type": "code",
   "execution_count": 10,
   "id": "fffaba7c",
   "metadata": {},
   "outputs": [
    {
     "name": "stdout",
     "output_type": "stream",
     "text": [
      "0.18461538461538463\n"
     ]
    }
   ],
   "source": [
    "print(P3)"
   ]
  },
  {
   "cell_type": "markdown",
   "id": "9001dd7d",
   "metadata": {},
   "source": [
    "4. В лотерее 100 билетов. Из них 2 выигрышных. Какова вероятность того, что 2 приобретенных билета окажутся выигрышными?"
   ]
  },
  {
   "cell_type": "code",
   "execution_count": 11,
   "id": "5fcb94e9",
   "metadata": {},
   "outputs": [],
   "source": [
    "P4 = combinations(2, 2) * combinations(98, 0) / combinations(100, 2)"
   ]
  },
  {
   "cell_type": "code",
   "execution_count": 12,
   "id": "f91eb7c5",
   "metadata": {},
   "outputs": [
    {
     "name": "stdout",
     "output_type": "stream",
     "text": [
      "0.00020202020202020202\n"
     ]
    }
   ],
   "source": [
    "print(P4)"
   ]
  },
  {
   "cell_type": "code",
   "execution_count": null,
   "id": "98b4b4ce",
   "metadata": {},
   "outputs": [],
   "source": []
  }
 ],
 "metadata": {
  "kernelspec": {
   "display_name": "Python 3 (ipykernel)",
   "language": "python",
   "name": "python3"
  },
  "language_info": {
   "codemirror_mode": {
    "name": "ipython",
    "version": 3
   },
   "file_extension": ".py",
   "mimetype": "text/x-python",
   "name": "python",
   "nbconvert_exporter": "python",
   "pygments_lexer": "ipython3",
   "version": "3.9.7"
  }
 },
 "nbformat": 4,
 "nbformat_minor": 5
}
